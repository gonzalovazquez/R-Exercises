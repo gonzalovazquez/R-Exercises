{
 "cells": [
  {
   "cell_type": "code",
   "execution_count": null,
   "metadata": {
    "collapsed": true
   },
   "outputs": [],
   "source": [
    "# Gonzalo Vazquez - Assignment 1"
   ]
  },
  {
   "cell_type": "code",
   "execution_count": 3,
   "metadata": {
    "collapsed": false
   },
   "outputs": [
    {
     "name": "stdout",
     "output_type": "stream",
     "text": [
      "\n",
      "The downloaded binary packages are in\n",
      "\t/var/folders/p6/pr_lgft11kzgnkqwq9136n140000gn/T//RtmpvKb1LV/downloaded_packages\n"
     ]
    },
    {
     "name": "stderr",
     "output_type": "stream",
     "text": [
      "Loading required package: nutshell.bbdb\n",
      "Loading required package: nutshell.audioscrobbler\n"
     ]
    }
   ],
   "source": [
    "# Downloading package and installing library\n",
    "install.packages(\"nutshell\", repos = \"http://cran.us.r-project.org\")\n",
    "library(nutshell)"
   ]
  },
  {
   "cell_type": "code",
   "execution_count": 4,
   "metadata": {
    "collapsed": true
   },
   "outputs": [],
   "source": [
    "# Datasets in the package\n",
    "data(package=\"nutshell\")"
   ]
  },
  {
   "cell_type": "code",
   "execution_count": 5,
   "metadata": {
    "collapsed": false
   },
   "outputs": [],
   "source": [
    "# Load data\n",
    "data(mort06.smpl)"
   ]
  },
  {
   "cell_type": "code",
   "execution_count": 6,
   "metadata": {
    "collapsed": false
   },
   "outputs": [],
   "source": [
    "# Copy data set to local variable\n",
    "myData <- mort06.smpl"
   ]
  },
  {
   "cell_type": "code",
   "execution_count": 44,
   "metadata": {
    "collapsed": false
   },
   "outputs": [],
   "source": [
    "# Write to CSV\n",
    "write.csv(mort06.smpl,file=\".//mydata2.csv\", row.names=F)"
   ]
  },
  {
   "cell_type": "code",
   "execution_count": 15,
   "metadata": {
    "collapsed": false
   },
   "outputs": [],
   "source": [
    "# Store age into variable\n",
    "data_age <- c(mort06.smpl$age)"
   ]
  },
  {
   "cell_type": "code",
   "execution_count": 20,
   "metadata": {
    "collapsed": false
   },
   "outputs": [
    {
     "data": {
      "text/html": [
       "72.2922310363556"
      ],
      "text/latex": [
       "72.2922310363556"
      ],
      "text/markdown": [
       "72.2922310363556"
      ],
      "text/plain": [
       "[1] 72.29223"
      ]
     },
     "metadata": {},
     "output_type": "display_data"
    }
   ],
   "source": [
    "# Generate age mean from dataset -- if it is not a number, remove from calculation\n",
    "mean(data_age, na.rm=TRUE)"
   ]
  },
  {
   "cell_type": "code",
   "execution_count": 21,
   "metadata": {
    "collapsed": false
   },
   "outputs": [
    {
     "data": {
      "text/html": [
       "77"
      ],
      "text/latex": [
       "77"
      ],
      "text/markdown": [
       "77"
      ],
      "text/plain": [
       "[1] 77"
      ]
     },
     "metadata": {},
     "output_type": "display_data"
    }
   ],
   "source": [
    "# Generate median age from dataset -- if it is not a number, remove from calculation\n",
    "median(data_age, na.rm=TRUE)"
   ]
  },
  {
   "cell_type": "code",
   "execution_count": 23,
   "metadata": {
    "collapsed": false
   },
   "outputs": [
    {
     "data": {
      "text/html": [
       "<dl class=dl-horizontal>\n",
       "\t<dt>0%</dt>\n",
       "\t\t<dd>0</dd>\n",
       "\t<dt>25%</dt>\n",
       "\t\t<dd>63</dd>\n",
       "\t<dt>50%</dt>\n",
       "\t\t<dd>77</dd>\n",
       "\t<dt>75%</dt>\n",
       "\t\t<dd>86</dd>\n",
       "\t<dt>100%</dt>\n",
       "\t\t<dd>112</dd>\n",
       "</dl>\n"
      ],
      "text/latex": [
       "\\begin{description*}\n",
       "\\item[0\\textbackslash{}\\%] 0\n",
       "\\item[25\\textbackslash{}\\%] 63\n",
       "\\item[50\\textbackslash{}\\%] 77\n",
       "\\item[75\\textbackslash{}\\%] 86\n",
       "\\item[100\\textbackslash{}\\%] 112\n",
       "\\end{description*}\n"
      ],
      "text/markdown": [
       "0%\n",
       ":   025%\n",
       ":   6350%\n",
       ":   7775%\n",
       ":   86100%\n",
       ":   112\n",
       "\n"
      ],
      "text/plain": [
       "  0%  25%  50%  75% 100% \n",
       "   0   63   77   86  112 "
      ]
     },
     "metadata": {},
     "output_type": "display_data"
    }
   ],
   "source": [
    "# Quartile of dataset\n",
    "quantile(data_age, na.rm=TRUE)"
   ]
  },
  {
   "cell_type": "code",
   "execution_count": 25,
   "metadata": {
    "collapsed": false
   },
   "outputs": [
    {
     "data": {
      "text/html": [
       "19.0061575713699"
      ],
      "text/latex": [
       "19.0061575713699"
      ],
      "text/markdown": [
       "19.0061575713699"
      ],
      "text/plain": [
       "[1] 19.00616"
      ]
     },
     "metadata": {},
     "output_type": "display_data"
    }
   ],
   "source": [
    "# Generate standard deviation from dataset\n",
    "sd(data_age, na.rm=TRUE)"
   ]
  },
  {
   "cell_type": "code",
   "execution_count": 26,
   "metadata": {
    "collapsed": false
   },
   "outputs": [
    {
     "data": {
      "text/html": [
       "361.23402562774"
      ],
      "text/latex": [
       "361.23402562774"
      ],
      "text/markdown": [
       "361.23402562774"
      ],
      "text/plain": [
       "[1] 361.234"
      ]
     },
     "metadata": {},
     "output_type": "display_data"
    }
   ],
   "source": [
    "# Generate variance from dataset\n",
    "var(data_age, na.rm=TRUE)"
   ]
  },
  {
   "cell_type": "code",
   "execution_count": 28,
   "metadata": {
    "collapsed": false
   },
   "outputs": [
    {
     "data": {
      "text/html": [
       "<ol class=list-inline>\n",
       "\t<li>0</li>\n",
       "\t<li>112</li>\n",
       "</ol>\n"
      ],
      "text/latex": [
       "\\begin{enumerate*}\n",
       "\\item 0\n",
       "\\item 112\n",
       "\\end{enumerate*}\n"
      ],
      "text/markdown": [
       "1. 0\n",
       "2. 112\n",
       "\n",
       "\n"
      ],
      "text/plain": [
       "[1]   0 112"
      ]
     },
     "metadata": {},
     "output_type": "display_data"
    }
   ],
   "source": [
    "# Generate range of age\n",
    "range(data_age, na.rm=TRUE)"
   ]
  },
  {
   "cell_type": "code",
   "execution_count": 29,
   "metadata": {
    "collapsed": false
   },
   "outputs": [
    {
     "data": {
      "text/html": [
       "23"
      ],
      "text/latex": [
       "23"
      ],
      "text/markdown": [
       "23"
      ],
      "text/plain": [
       "[1] 23"
      ]
     },
     "metadata": {},
     "output_type": "display_data"
    }
   ],
   "source": [
    "# Generate interquartile rage\n",
    "IQR(data_age, na.rm=TRUE)"
   ]
  },
  {
   "cell_type": "code",
   "execution_count": 33,
   "metadata": {
    "collapsed": false
   },
   "outputs": [
    {
     "data": {
      "text/html": [
       "<ol class=list-inline>\n",
       "\t<li>72.2922310363556</li>\n",
       "\t<li>75.3032351350716</li>\n",
       "</ol>\n"
      ],
      "text/latex": [
       "\\begin{enumerate*}\n",
       "\\item 72.2922310363556\n",
       "\\item 75.3032351350716\n",
       "\\end{enumerate*}\n"
      ],
      "text/markdown": [
       "1. 72.2922310363556\n",
       "2. 75.3032351350716\n",
       "\n",
       "\n"
      ],
      "text/plain": [
       "[1] 72.29223 75.30324"
      ]
     },
     "metadata": {},
     "output_type": "display_data"
    }
   ],
   "source": [
    "# Generate trimmed mean - 15% is ignored\n",
    "xm <- mean(data_age, na.rm=TRUE)\n",
    "c(xm, mean(data_age, na.rm=TRUE, trim = 0.15))"
   ]
  },
  {
   "cell_type": "code",
   "execution_count": 34,
   "metadata": {
    "collapsed": false
   },
   "outputs": [
    {
     "name": "stdout",
     "output_type": "stream",
     "text": [
      "   \n",
      "    Accidents Alzheimer's Disease Cancer Chronic respiratory diseases Diabetes\n",
      "  F      4362                5167  27275                         6509     3718\n",
      "  M      8009                2169  29887                         5878     3554\n",
      "   \n",
      "    Heart Disease Homicide Influenza and pheumonia Other Suicide\n",
      "  F         42993      398                    3153 28381     679\n",
      "  M         39604     1521                    2674 24585    2557\n"
     ]
    }
   ],
   "source": [
    "# Generate contingency table to investigate the relationship between sex and age\n",
    "print(t <- table(mort06.smpl$Sex, mort06.smpl$Cause))"
   ]
  },
  {
   "cell_type": "code",
   "execution_count": 54,
   "metadata": {
    "collapsed": false
   },
   "outputs": [
    {
     "data": {
      "text/plain": [
       "   \n",
       "    Accidents Alzheimer's Disease    Cancer Chronic respiratory diseases\n",
       "  F 0.3525988           0.7043348 0.4771527                    0.5254703\n",
       "  M 0.6474012           0.2956652 0.5228473                    0.4745297\n",
       "   \n",
       "     Diabetes Heart Disease  Homicide Influenza and pheumonia     Other\n",
       "  F 0.5112761     0.5205153 0.2073997               0.5411018 0.5358343\n",
       "  M 0.4887239     0.4794847 0.7926003               0.4588982 0.4641657\n",
       "   \n",
       "      Suicide\n",
       "  F 0.2098269\n",
       "  M 0.7901731"
      ]
     },
     "metadata": {},
     "output_type": "display_data"
    }
   ],
   "source": [
    "# Generate percetages with proper margin\n",
    "prop.table(t, 2)"
   ]
  }
 ],
 "metadata": {
  "kernelspec": {
   "display_name": "R",
   "language": "R",
   "name": "ir"
  },
  "language_info": {
   "codemirror_mode": "r",
   "file_extension": ".r",
   "mimetype": "text/x-r-source",
   "name": "R",
   "pygments_lexer": "r",
   "version": "3.4.0"
  }
 },
 "nbformat": 4,
 "nbformat_minor": 2
}
