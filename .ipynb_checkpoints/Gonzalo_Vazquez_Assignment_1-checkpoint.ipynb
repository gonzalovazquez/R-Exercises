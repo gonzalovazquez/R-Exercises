{
 "cells": [
  {
   "cell_type": "code",
   "execution_count": 2,
   "metadata": {
    "collapsed": false
   },
   "outputs": [
    {
     "name": "stdout",
     "output_type": "stream",
     "text": [
      "\n",
      "The downloaded binary packages are in\n",
      "\t/var/folders/p6/pr_lgft11kzgnkqwq9136n140000gn/T//RtmpB12RgK/downloaded_packages\n"
     ]
    }
   ],
   "source": [
    "# Downloading package and installing library\n",
    "install.packages(\"nutshell\", repos = \"http://cran.us.r-project.org\")\n",
    "library(nutshell)"
   ]
  },
  {
   "cell_type": "code",
   "execution_count": 3,
   "metadata": {
    "collapsed": true
   },
   "outputs": [],
   "source": [
    "# Datasets in the package\n",
    "data(package=\"nutshell\")"
   ]
  },
  {
   "cell_type": "code",
   "execution_count": 4,
   "metadata": {
    "collapsed": true
   },
   "outputs": [],
   "source": [
    "# Load data\n",
    "data(mort06.smpl)"
   ]
  },
  {
   "cell_type": "code",
   "execution_count": 5,
   "metadata": {
    "collapsed": false
   },
   "outputs": [
    {
     "data": {
      "text/plain": [
       " ResidentStatus  Education1989    Education2003    EducationFlag   \n",
       " Min.   :1.000   Min.   : 0.00    Min.   :1.00     Min.   :0.0000  \n",
       " 1st Qu.:1.000   1st Qu.:10.00    1st Qu.:2.00     1st Qu.:0.0000  \n",
       " Median :1.000   Median :12.00    Median :3.00     Median :0.0000  \n",
       " Mean   :1.221   Mean   :17.98    Mean   :3.42     Mean   :0.4834  \n",
       " 3rd Qu.:1.000   3rd Qu.:14.00    3rd Qu.:4.00     3rd Qu.:1.0000  \n",
       " Max.   :4.000   Max.   :99.00    Max.   :9.00     Max.   :1.0000  \n",
       "                 NA's   :117493   NA's   :125580                   \n",
       "  MonthOfDeath    Sex          AgeDetail    AgeSubstitution   AgeRecode52   \n",
       " Min.   : 1.000   F:122635   Min.   :1001   Min.   :1        Min.   : 1.00  \n",
       " 1st Qu.: 3.000   M:120438   1st Qu.:1063   1st Qu.:1        1st Qu.:38.00  \n",
       " Median : 6.000              Median :1078   Median :1        Median :41.00  \n",
       " Mean   : 6.451              Mean   :1107   Mean   :1        Mean   :39.84  \n",
       " 3rd Qu.:10.000              3rd Qu.:1086   3rd Qu.:1        3rd Qu.:43.00  \n",
       " Max.   :12.000              Max.   :9999   Max.   :1        Max.   :52.00  \n",
       "                                            NA's   :243063                  \n",
       "  AgeRecode27  AgeRecode12    AgeRecodeInfant22  PlaceOfDeath   MaritalStatus\n",
       " Min.   : 1   Min.   : 1.00   Min.   : 1.00     Min.   :1.000   D:30792      \n",
       " 1st Qu.:18   1st Qu.: 8.00   1st Qu.: 2.00     1st Qu.:1.000   M:92332      \n",
       " Median :21   Median :10.00   Median : 6.00     Median :4.000   S:29745      \n",
       " Mean   :20   Mean   : 9.22   Mean   : 7.46     Mean   :3.413   U: 1326      \n",
       " 3rd Qu.:23   3rd Qu.:11.00   3rd Qu.:12.00     3rd Qu.:6.000   W:88878      \n",
       " Max.   :27   Max.   :12.00   Max.   :22.00     Max.   :9.000                \n",
       "                              NA's   :240247                                 \n",
       " DayOfWeekofDeath CurrentDataYear InjuryAtWork MannerOfDeath  \n",
       " Min.   :1.00     Min.   :2006    N: 19184     Min.   :1.00   \n",
       " 1st Qu.:2.00     1st Qu.:2006    U:223383     1st Qu.:7.00   \n",
       " Median :4.00     Median :2006    Y:   506     Median :7.00   \n",
       " Mean   :4.01     Mean   :2006                 Mean   :6.43   \n",
       " 3rd Qu.:6.00     3rd Qu.:2006                 3rd Qu.:7.00   \n",
       " Max.   :9.00     Max.   :2006                 Max.   :7.00   \n",
       "                                               NA's   :69356  \n",
       " MethodOfDisposition Autopsy     ActivityCode    PlaceOfInjury   \n",
       " B: 66767            N:196154   Min.   :0.00     Min.   :0.00    \n",
       " C: 42293            U: 26756   1st Qu.:9.00     1st Qu.:0.00    \n",
       " D:   653            Y: 20163   Median :9.00     Median :2.00    \n",
       " E:  2366                       Mean   :8.98     Mean   :4.01    \n",
       " O:   244                       3rd Qu.:9.00     3rd Qu.:9.00    \n",
       " R:  4099                       Max.   :9.00     Max.   :9.00    \n",
       " U:126651                       NA's   :225900   NA's   :227330  \n",
       "    ICDCode       CauseRecode358  CauseRecode113   CauseRecode130  \n",
       " I251   : 19303   Min.   :  6.0   Min.   :  1.00   Min.   :  9.0   \n",
       " C349   : 15759   1st Qu.:134.0   1st Qu.: 43.00   1st Qu.: 89.0   \n",
       " I219   : 14105   Median :214.0   Median : 63.00   Median :108.0   \n",
       " J449   : 10256   Mean   :210.4   Mean   : 66.85   Mean   :104.4   \n",
       " I64    :  7294   3rd Qu.:257.0   3rd Qu.: 86.00   3rd Qu.:128.0   \n",
       " G309   :  7122   Max.   :456.0   Max.   :135.00   Max.   :158.0   \n",
       " (Other):169234                                    NA's   :240247  \n",
       " CauseRecord39                                               Race       \n",
       " Min.   : 1.00   White                                         :208082  \n",
       " 1st Qu.:16.00   Black                                         : 29013  \n",
       " Median :22.00   American Indian (includes Aleuts and  Eskimos):  1392  \n",
       " Mean   :23.53   Chinese                                       :   966  \n",
       " 3rd Qu.:34.00   Filipino                                      :   919  \n",
       " Max.   :42.00   Other Asian or Pacific Islander               :   757  \n",
       "                 (Other)                                       :  1944  \n",
       " BridgeRaceFlag   RaceImputationFlag  RaceRecode3     RaceRecord5   \n",
       " Min.   :1        Min.   :1.00       Min.   :1.000   Min.   :1.000  \n",
       " 1st Qu.:1        1st Qu.:1.00       1st Qu.:1.000   1st Qu.:1.000  \n",
       " Median :1        Median :2.00       Median :1.000   Median :1.000  \n",
       " Mean   :1        Mean   :1.63       Mean   :1.263   Mean   :1.187  \n",
       " 3rd Qu.:1        3rd Qu.:2.00       3rd Qu.:1.000   3rd Qu.:1.000  \n",
       " Max.   :1        Max.   :2.00       Max.   :3.000   Max.   :4.000  \n",
       " NA's   :242524   NA's   :241803                                    \n",
       " HispanicOrigin  HispanicOriginRecode      age        \n",
       " Min.   :100.0   Min.   :1.000        Min.   :  0.00  \n",
       " 1st Qu.:100.0   1st Qu.:6.000        1st Qu.: 63.00  \n",
       " Median :100.0   Median :6.000        Median : 77.00  \n",
       " Mean   :109.1   Mean   :5.956        Mean   : 72.29  \n",
       " 3rd Qu.:100.0   3rd Qu.:6.000        3rd Qu.: 86.00  \n",
       " Max.   :998.0   Max.   :9.000        Max.   :112.00  \n",
       "                                      NA's   :29      \n",
       "                          Cause      \n",
       " Heart Disease               :82597  \n",
       " Cancer                      :57162  \n",
       " Other                       :52966  \n",
       " Chronic respiratory diseases:12387  \n",
       " Accidents                   :12371  \n",
       " Alzheimer's Disease         : 7336  \n",
       " (Other)                     :18254  "
      ]
     },
     "metadata": {},
     "output_type": "display_data"
    }
   ],
   "source": [
    "summary(mort06.smpl)"
   ]
  },
  {
   "cell_type": "code",
   "execution_count": null,
   "metadata": {
    "collapsed": true
   },
   "outputs": [],
   "source": []
  }
 ],
 "metadata": {
  "kernelspec": {
   "display_name": "R",
   "language": "R",
   "name": "ir"
  },
  "language_info": {
   "codemirror_mode": "r",
   "file_extension": ".r",
   "mimetype": "text/x-r-source",
   "name": "R",
   "pygments_lexer": "r",
   "version": "3.4.0"
  }
 },
 "nbformat": 4,
 "nbformat_minor": 2
}
